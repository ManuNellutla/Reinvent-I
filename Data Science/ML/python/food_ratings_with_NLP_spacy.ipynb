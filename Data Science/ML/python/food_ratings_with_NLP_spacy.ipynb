{
 "cells": [
  {
   "cell_type": "markdown",
   "metadata": {},
   "source": [
    "# My Frist NLP and Jupyter NB"
   ]
  },
  {
   "cell_type": "markdown",
   "metadata": {},
   "source": [
    "For this Natural Language processor, I am using the following Libraries : SPACY\n",
    "\n",
    "Data: from kaggle exercise : \n",
    ">restaurant.json, yelp_ratings.csv\n",
    "   \n",
    "\n",
    "This book is emulating a kaggle exercise i have done before. Idea is to find the best rated and worst rated menu items based on the reviews.\n",
    "\n",
    "### Facts:\n",
    "  1. restaurant data has only this client's data - This restaurant only\n",
    "  2. ratings data are basically customers rating menu items of this particular restaurant.\n",
    "\n",
    "## The Ask\n",
    "\n",
    "Ask the client what they want to know? \n",
    "\n",
    "In this case they want to konw how customers have rated menu items in Yelp. They have reviews from Yelp and they have a menu. They wanted to know best and worst items to they can optimize.\n",
    "\n",
    "#### Lets Look at data to see what we need to work with."
   ]
  },
  {
   "cell_type": "code",
   "execution_count": 1,
   "metadata": {},
   "outputs": [
    {
     "name": "stdout",
     "output_type": "stream",
     "text": [
      "<class 'pandas.core.frame.DataFrame'>\n",
      "Int64Index: 1321 entries, 109 to 644757\n",
      "Data columns (total 9 columns):\n",
      " #   Column       Non-Null Count  Dtype         \n",
      "---  ------       --------------  -----         \n",
      " 0   review_id    1321 non-null   object        \n",
      " 1   user_id      1321 non-null   object        \n",
      " 2   business_id  1321 non-null   object        \n",
      " 3   stars        1321 non-null   int64         \n",
      " 4   useful       1321 non-null   int64         \n",
      " 5   funny        1321 non-null   int64         \n",
      " 6   cool         1321 non-null   int64         \n",
      " 7   text         1321 non-null   object        \n",
      " 8   date         1321 non-null   datetime64[ns]\n",
      "dtypes: datetime64[ns](1), int64(4), object(4)\n",
      "memory usage: 103.2+ KB\n"
     ]
    },
    {
     "data": {
      "text/html": [
       "<div>\n",
       "<style scoped>\n",
       "    .dataframe tbody tr th:only-of-type {\n",
       "        vertical-align: middle;\n",
       "    }\n",
       "\n",
       "    .dataframe tbody tr th {\n",
       "        vertical-align: top;\n",
       "    }\n",
       "\n",
       "    .dataframe thead th {\n",
       "        text-align: right;\n",
       "    }\n",
       "</style>\n",
       "<table border=\"1\" class=\"dataframe\">\n",
       "  <thead>\n",
       "    <tr style=\"text-align: right;\">\n",
       "      <th></th>\n",
       "      <th>review_id</th>\n",
       "      <th>user_id</th>\n",
       "      <th>business_id</th>\n",
       "      <th>stars</th>\n",
       "      <th>useful</th>\n",
       "      <th>funny</th>\n",
       "      <th>cool</th>\n",
       "      <th>text</th>\n",
       "      <th>date</th>\n",
       "    </tr>\n",
       "  </thead>\n",
       "  <tbody>\n",
       "    <tr>\n",
       "      <th>109</th>\n",
       "      <td>lDJIaF4eYRF4F7g6Zb9euw</td>\n",
       "      <td>lb0QUR5bc4O-Am4hNq9ZGg</td>\n",
       "      <td>r5PLDU-4mSbde5XekTXSCA</td>\n",
       "      <td>4</td>\n",
       "      <td>2</td>\n",
       "      <td>0</td>\n",
       "      <td>0</td>\n",
       "      <td>I used to work food service and my manager at ...</td>\n",
       "      <td>2013-01-27 17:54:54</td>\n",
       "    </tr>\n",
       "    <tr>\n",
       "      <th>1013</th>\n",
       "      <td>vvIzf3pr8lTqE_AOsxmgaA</td>\n",
       "      <td>MAmijW4ooUzujkufYYLMeQ</td>\n",
       "      <td>r5PLDU-4mSbde5XekTXSCA</td>\n",
       "      <td>4</td>\n",
       "      <td>0</td>\n",
       "      <td>0</td>\n",
       "      <td>0</td>\n",
       "      <td>We have been trying Eggplant sandwiches all ov...</td>\n",
       "      <td>2015-04-15 04:50:56</td>\n",
       "    </tr>\n",
       "    <tr>\n",
       "      <th>1204</th>\n",
       "      <td>UF-JqzMczZ8vvp_4tPK3bQ</td>\n",
       "      <td>slfi6gf_qEYTXy90Sw93sg</td>\n",
       "      <td>r5PLDU-4mSbde5XekTXSCA</td>\n",
       "      <td>5</td>\n",
       "      <td>1</td>\n",
       "      <td>0</td>\n",
       "      <td>0</td>\n",
       "      <td>Amazing Steak and Cheese... Better than any Ph...</td>\n",
       "      <td>2011-03-20 00:57:45</td>\n",
       "    </tr>\n",
       "    <tr>\n",
       "      <th>1251</th>\n",
       "      <td>geUJGrKhXynxDC2uvERsLw</td>\n",
       "      <td>N_-UepOzAsuDQwOUtfRFGw</td>\n",
       "      <td>r5PLDU-4mSbde5XekTXSCA</td>\n",
       "      <td>1</td>\n",
       "      <td>0</td>\n",
       "      <td>0</td>\n",
       "      <td>0</td>\n",
       "      <td>Although I have been going to DeFalco's for ye...</td>\n",
       "      <td>2018-07-17 01:48:23</td>\n",
       "    </tr>\n",
       "    <tr>\n",
       "      <th>1354</th>\n",
       "      <td>aPctXPeZW3kDq36TRm-CqA</td>\n",
       "      <td>139hD7gkZVzSvSzDPwhNNw</td>\n",
       "      <td>r5PLDU-4mSbde5XekTXSCA</td>\n",
       "      <td>2</td>\n",
       "      <td>0</td>\n",
       "      <td>0</td>\n",
       "      <td>0</td>\n",
       "      <td>Highs: Ambience, value, pizza and deserts. Thi...</td>\n",
       "      <td>2018-01-21 10:52:58</td>\n",
       "    </tr>\n",
       "  </tbody>\n",
       "</table>\n",
       "</div>"
      ],
      "text/plain": [
       "                   review_id                 user_id             business_id  \\\n",
       "109   lDJIaF4eYRF4F7g6Zb9euw  lb0QUR5bc4O-Am4hNq9ZGg  r5PLDU-4mSbde5XekTXSCA   \n",
       "1013  vvIzf3pr8lTqE_AOsxmgaA  MAmijW4ooUzujkufYYLMeQ  r5PLDU-4mSbde5XekTXSCA   \n",
       "1204  UF-JqzMczZ8vvp_4tPK3bQ  slfi6gf_qEYTXy90Sw93sg  r5PLDU-4mSbde5XekTXSCA   \n",
       "1251  geUJGrKhXynxDC2uvERsLw  N_-UepOzAsuDQwOUtfRFGw  r5PLDU-4mSbde5XekTXSCA   \n",
       "1354  aPctXPeZW3kDq36TRm-CqA  139hD7gkZVzSvSzDPwhNNw  r5PLDU-4mSbde5XekTXSCA   \n",
       "\n",
       "      stars  useful  funny  cool  \\\n",
       "109       4       2      0     0   \n",
       "1013      4       0      0     0   \n",
       "1204      5       1      0     0   \n",
       "1251      1       0      0     0   \n",
       "1354      2       0      0     0   \n",
       "\n",
       "                                                   text                date  \n",
       "109   I used to work food service and my manager at ... 2013-01-27 17:54:54  \n",
       "1013  We have been trying Eggplant sandwiches all ov... 2015-04-15 04:50:56  \n",
       "1204  Amazing Steak and Cheese... Better than any Ph... 2011-03-20 00:57:45  \n",
       "1251  Although I have been going to DeFalco's for ye... 2018-07-17 01:48:23  \n",
       "1354  Highs: Ambience, value, pizza and deserts. Thi... 2018-01-21 10:52:58  "
      ]
     },
     "execution_count": 1,
     "metadata": {},
     "output_type": "execute_result"
    }
   ],
   "source": [
    "# Author: Manu Nellutla\n",
    "# date : 07/4/2020\n",
    "# file:  food_ratings_with_NLP\n",
    "# Desc:  Finding best and worst rated menu items for a restaurant.\n",
    "\n",
    "#starting with importing pandas to read data \n",
    "import pandas as pd\n",
    "\n",
    "restaurant_data = pd.read_json(\"data/yelp_restaurant.json\")\n",
    "\n",
    "#lets see what its features or dimensions it has \n",
    "restaurant_data.info()\n",
    "\n",
    "#let's see few rows\n",
    "restaurant_data.head()"
   ]
  },
  {
   "cell_type": "markdown",
   "metadata": {},
   "source": [
    "\n",
    "#### Working with inputs - Menu data\n",
    "\n",
    "Looks like one solution is to look for keywords in item reviews and see if we can match it with any menu items. If there is a match then good. \n",
    "\n",
    "***Assumptions / Limitation***\n",
    "1. Text in reviews are on menu based dishes.\n",
    "2. Reviews with generalized reviews will mostly be ignored for no match.\n",
    "\n",
    "So,whatever was given we converted it to a list and called it \"Menu\". Apart from item names in the menu, It is a good idea to use common names or commonly used terms. \n",
    ">E.g: \"Cheese Steak\", \"Cheesesteak\", \"Steak and Cheese\".\n",
    "\n",
    "That way the more better we might find. \n",
    "\n",
    "Ultimately at somepoint of time we might try to ***lemmatize*** the words for better matching - Look up lemmatize."
   ]
  },
  {
   "cell_type": "code",
   "execution_count": 2,
   "metadata": {},
   "outputs": [],
   "source": [
    "# These are menu items from the restaurant. We will finally find the best and word of this list.\n",
    "menu = [\"Cheese Steak\", \"Cheesesteak\", \"Steak and Cheese\", \"Italian Combo\", \"Tiramisu\", \"Cannoli\",\n",
    "        \"Chicken Salad\", \"Chicken Spinach Salad\", \"Meatball\", \"Pizza\", \"Pizzas\", \"Spaghetti\",\n",
    "        \"Bruchetta\", \"Eggplant\", \"Italian Beef\", \"Purista\", \"Pasta\", \"Calzones\",  \"Calzone\",\n",
    "        \"Italian Sausage\", \"Chicken Cutlet\", \"Chicken Parm\", \"Chicken Parmesan\", \"Gnocchi\",\n",
    "        \"Chicken Pesto\", \"Turkey Sandwich\", \"Turkey Breast\", \"Ziti\", \"Portobello\", \"Reuben\",\n",
    "        \"Mozzarella Caprese\",  \"Corned Beef\", \"Garlic Bread\", \"Pastrami\", \"Roast Beef\",\n",
    "        \"Tuna Salad\", \"Lasagna\", \"Artichoke Salad\", \"Fettuccini Alfredo\", \"Chicken Parmigiana\",\n",
    "        \"Grilled Veggie\", \"Grilled Veggies\", \"Grilled Vegetable\", \"Mac and Cheese\", \"Macaroni\",  \n",
    "         \"Prosciutto\", \"Salami\"]"
   ]
  },
  {
   "cell_type": "markdown",
   "metadata": {},
   "source": [
    "\n",
    "#### Setting up for NLP\n",
    "Now that we have the basics down... Let's start with the setup"
   ]
  },
  {
   "cell_type": "code",
   "execution_count": 3,
   "metadata": {},
   "outputs": [],
   "source": [
    "#import spacy library\n",
    "import spacy\n",
    "\n",
    "#lets start with loading which language model we want to use -> look up language models for NLP\n",
    "# we prefer Engish\n",
    "\n",
    "nlp_en_model = spacy.blank('en')\n"
   ]
  },
  {
   "cell_type": "markdown",
   "metadata": {},
   "source": [
    "\n",
    "Since we are starting lets analyse 1 review. \"Getting our ducks in row\" before the big finish"
   ]
  },
  {
   "cell_type": "code",
   "execution_count": 4,
   "metadata": {},
   "outputs": [
    {
     "data": {
      "text/plain": [
       "\"The Il Purista sandwich has become a staple of my life. Mozzarella, basil, prosciutto, roasted red peppers and balsamic vinaigrette blend into a front runner for the best sandwich in the valley. Goes great with sparkling water or a beer. \\n\\nDeFalco's also has other Italian fare such as a delicious meatball sub and classic pastas.\""
      ]
     },
     "execution_count": 4,
     "metadata": {},
     "output_type": "execute_result"
    }
   ],
   "source": [
    "# picking one review to work with. Getting row number 14.\n",
    "test_review = restaurant_data.text.iloc[14]\n",
    "\n",
    "#print and see what it lookw like -> py notebooks don't need explicit print() verb to print\n",
    "test_review\n",
    "\n"
   ]
  },
  {
   "cell_type": "markdown",
   "metadata": {},
   "source": [
    "\n",
    "Those are lot of words. We need to tokenize them {make them a list of words instead of sentences}. Lets play with \"SPACY\" to see what it can do for us. 2 features i read are\n",
    "> 1. 'LEMMATIZING'{token.lemma_ : Claming -> calm}\n",
    ">2. 'FINDING NOISE\" {token.is_stop : words - like \"is\", \"the\" etc..}\n",
    "\n",
    "### Tokenize is the keyword\n",
    "\n",
    "Tokenize also separates all non characters/symbols too. '.' ',' '?'"
   ]
  },
  {
   "cell_type": "code",
   "execution_count": 5,
   "metadata": {},
   "outputs": [
    {
     "name": "stdout",
     "output_type": "stream",
     "text": [
      "Token \t\tLemma \t\tStopword\n",
      "----------------------------------------\n",
      "The\t\tThe\t\tTrue\n",
      "Il\t\tIl\t\tFalse\n",
      "Purista\t\tPurista\t\tFalse\n",
      "sandwich\t\tsandwich\t\tFalse\n",
      "has\t\thas\t\tTrue\n",
      "become\t\tbecome\t\tTrue\n",
      "a\t\ta\t\tTrue\n",
      "staple\t\tstaple\t\tFalse\n",
      "of\t\tof\t\tTrue\n",
      "my\t\tmy\t\tTrue\n",
      "life\t\tlife\t\tFalse\n",
      ".\t\t.\t\tFalse\n",
      "Mozzarella\t\tMozzarella\t\tFalse\n",
      ",\t\t,\t\tFalse\n",
      "basil\t\tbasil\t\tFalse\n",
      ",\t\t,\t\tFalse\n",
      "prosciutto\t\tprosciutto\t\tFalse\n",
      ",\t\t,\t\tFalse\n",
      "roasted\t\troasted\t\tFalse\n",
      "red\t\tred\t\tFalse\n",
      "peppers\t\tpeppers\t\tFalse\n",
      "and\t\tand\t\tTrue\n",
      "balsamic\t\tbalsamic\t\tFalse\n",
      "vinaigrette\t\tvinaigrette\t\tFalse\n",
      "blend\t\tblend\t\tFalse\n",
      "into\t\tinto\t\tTrue\n",
      "a\t\ta\t\tTrue\n",
      "front\t\tfront\t\tTrue\n",
      "runner\t\trunner\t\tFalse\n",
      "for\t\tfor\t\tTrue\n",
      "the\t\tthe\t\tTrue\n",
      "best\t\tbest\t\tFalse\n",
      "sandwich\t\tsandwich\t\tFalse\n",
      "in\t\tin\t\tTrue\n",
      "the\t\tthe\t\tTrue\n",
      "valley\t\tvalley\t\tFalse\n",
      ".\t\t.\t\tFalse\n",
      "Goes\t\tGoes\t\tFalse\n",
      "great\t\tgreat\t\tFalse\n",
      "with\t\twith\t\tTrue\n",
      "sparkling\t\tsparkling\t\tFalse\n",
      "water\t\twater\t\tFalse\n",
      "or\t\tor\t\tTrue\n",
      "a\t\ta\t\tTrue\n",
      "beer\t\tbeer\t\tFalse\n",
      ".\t\t.\t\tFalse\n",
      "\n",
      "\n",
      "\t\t\n",
      "\n",
      "\t\tFalse\n",
      "DeFalco\t\tDeFalco\t\tFalse\n",
      "'s\t\t's\t\tTrue\n",
      "also\t\talso\t\tTrue\n",
      "has\t\thas\t\tTrue\n",
      "other\t\tother\t\tTrue\n",
      "Italian\t\tItalian\t\tFalse\n",
      "fare\t\tfare\t\tFalse\n",
      "such\t\tsuch\t\tTrue\n",
      "as\t\tas\t\tTrue\n",
      "a\t\ta\t\tTrue\n",
      "delicious\t\tdelicious\t\tFalse\n",
      "meatball\t\tmeatball\t\tFalse\n",
      "sub\t\tsub\t\tFalse\n",
      "and\t\tand\t\tTrue\n",
      "classic\t\tclassic\t\tFalse\n",
      "pastas\t\tpastas\t\tFalse\n",
      ".\t\t.\t\tFalse\n"
     ]
    }
   ],
   "source": [
    "#tokenize -> using nlp language model defined in steps before.\n",
    "\n",
    "review_words = nlp_en_model(test_review) # this is a tokenized doc object.\n",
    "\n",
    "#uncoment line below to see how words are tokenized - printing as a list.\n",
    "#print([word for word in review_words])\n",
    "\n",
    "#heading for our table -> uncomment lines below\n",
    "\n",
    "\n",
    "print(f\"Token \\t\\tLemma \\t\\tStopword\".format('Token', 'Lemma', 'Stopword'))\n",
    "print(\"-\"*40)  # just a separator \"-----\"\n",
    "\n",
    "for token in review_words:\n",
    "    print(f\"{str(token)}\\t\\t{token.lemma_}\\t\\t{token.is_stop}\")"
   ]
  },
  {
   "cell_type": "markdown",
   "metadata": {},
   "source": [
    "\n",
    "### Matcher setup\n",
    "\n",
    "Lets get serious now... First setup a matcher then match and collect. PhraseMatcher is a method offered by SPACY library which matches your ***pattern*** list of words in the target string."
   ]
  },
  {
   "cell_type": "code",
   "execution_count": 6,
   "metadata": {},
   "outputs": [
    {
     "name": "stdout",
     "output_type": "stream",
     "text": [
      "Token number (8291075388056826051, 2, 3) : Purista\n",
      "Token number (8291075388056826051, 16, 17) : prosciutto\n",
      "Token number (8291075388056826051, 58, 59) : meatball\n"
     ]
    }
   ],
   "source": [
    "#lets import phrasematcher from spacy\n",
    "from spacy.matcher import PhraseMatcher\n",
    "\n",
    "# Create the PhraseMatcher object. The tokenizer is the first argument. Use attr = 'LOWER' to make consistent capitalization\n",
    "matcher = PhraseMatcher(nlp_en_model.vocab, attr='LOWER')\n",
    "\n",
    "# Create a list of tokens for each item in the menu\n",
    "menu_tokens_list = [nlp_en_model(item) for item in menu]\n",
    "\n",
    "#this is a small method to catch what is matched and not.\n",
    "def on_match(matcher, doc, id, matches):\n",
    "      print(f\"Token number {matches[id]} : {review_words[matches[id][1]:matches[id][2]]}\")\n",
    "\n",
    "# Add the item patterns to the matcher. \n",
    "# Look at https://spacy.io/api/phrasematcher#add in the docs for help with this step\n",
    "# Then uncomment the lines below \n",
    "\n",
    "# \n",
    "matcher.add(\"MENU\",            # Just a name for the set of rules we're matching to\n",
    "           on_match,              # Special actions to take on matched words\n",
    "           *menu_tokens_list  \n",
    "          )\n",
    "\n",
    "# Find matches in the review_doc\n",
    "matches = matcher(review_words)\n",
    "\n",
    "\n"
   ]
  },
  {
   "cell_type": "markdown",
   "metadata": {},
   "source": [
    "### Working with Main Dataset\n",
    "\n",
    "Now that we run our model on full dataset."
   ]
  },
  {
   "cell_type": "code",
   "execution_count": 8,
   "metadata": {},
   "outputs": [
    {
     "data": {
      "text/html": [
       "<div>\n",
       "<style scoped>\n",
       "    .dataframe tbody tr th:only-of-type {\n",
       "        vertical-align: middle;\n",
       "    }\n",
       "\n",
       "    .dataframe tbody tr th {\n",
       "        vertical-align: top;\n",
       "    }\n",
       "\n",
       "    .dataframe thead th {\n",
       "        text-align: right;\n",
       "    }\n",
       "</style>\n",
       "<table border=\"1\" class=\"dataframe\">\n",
       "  <thead>\n",
       "    <tr style=\"text-align: right;\">\n",
       "      <th></th>\n",
       "      <th>item</th>\n",
       "      <th>avg_rating</th>\n",
       "      <th>rating_cnt</th>\n",
       "    </tr>\n",
       "  </thead>\n",
       "  <tbody>\n",
       "    <tr>\n",
       "      <th>0</th>\n",
       "      <td>chicken parmigiana</td>\n",
       "      <td>4.444444</td>\n",
       "      <td>18</td>\n",
       "    </tr>\n",
       "    <tr>\n",
       "      <th>1</th>\n",
       "      <td>eggplant</td>\n",
       "      <td>3.968421</td>\n",
       "      <td>95</td>\n",
       "    </tr>\n",
       "    <tr>\n",
       "      <th>2</th>\n",
       "      <td>steak and cheese</td>\n",
       "      <td>4.888889</td>\n",
       "      <td>9</td>\n",
       "    </tr>\n",
       "    <tr>\n",
       "      <th>3</th>\n",
       "      <td>pizza</td>\n",
       "      <td>4.304469</td>\n",
       "      <td>358</td>\n",
       "    </tr>\n",
       "    <tr>\n",
       "      <th>4</th>\n",
       "      <td>meatball</td>\n",
       "      <td>4.079755</td>\n",
       "      <td>163</td>\n",
       "    </tr>\n",
       "  </tbody>\n",
       "</table>\n",
       "</div>"
      ],
      "text/plain": [
       "                 item  avg_rating  rating_cnt\n",
       "0  chicken parmigiana    4.444444          18\n",
       "1            eggplant    3.968421          95\n",
       "2    steak and cheese    4.888889           9\n",
       "3               pizza    4.304469         358\n",
       "4            meatball    4.079755         163"
      ]
     },
     "execution_count": 8,
     "metadata": {},
     "output_type": "execute_result"
    }
   ],
   "source": [
    "from collections import defaultdict\n",
    "\n",
    "# item_ratings is a dictionary of lists. If a key doesn't exist in item_ratings,\n",
    "# the key is added with an empty list as the value.\n",
    "item_ratings = defaultdict(list)\n",
    "\n",
    "# lets redo our matcher to not use 'on_match' action\n",
    "matcher.add(\"MENU\",            # Just a name for the set of rules we're matching to\n",
    "           None,              # Special actions to take on matched words\n",
    "           *menu_tokens_list  \n",
    "          )\n",
    "\n",
    "it = []\n",
    "for idx, review in restaurant_data.iterrows():\n",
    "    doc = nlp_en_model(review.text)\n",
    "    # Using the matcher from the previous exercise\n",
    "    matches = matcher(doc)\n",
    "    \n",
    "    # Create a set of the items found in the review text\n",
    "    found_items = set([doc[match[1]:match[2]] for match in matches])\n",
    "    \n",
    "    # Update item_ratings with rating for each item in found_items\n",
    "    # Transform the item strings to lowercase to make it case insensitive\n",
    "    for item in found_items:\n",
    "        item_ratings[str(item).lower()].append(review.stars)\n"
   ]
  },
  {
   "cell_type": "markdown",
   "metadata": {},
   "source": [
    "#### Extract results and plot\n",
    "\n",
    "Lets extract results into a final managable datasets and lets plot some graphs\n"
   ]
  },
  {
   "cell_type": "code",
   "execution_count": 45,
   "metadata": {},
   "outputs": [
    {
     "data": {
      "text/html": [
       "<div>\n",
       "<style scoped>\n",
       "    .dataframe tbody tr th:only-of-type {\n",
       "        vertical-align: middle;\n",
       "    }\n",
       "\n",
       "    .dataframe tbody tr th {\n",
       "        vertical-align: top;\n",
       "    }\n",
       "\n",
       "    .dataframe thead th {\n",
       "        text-align: right;\n",
       "    }\n",
       "</style>\n",
       "<table border=\"1\" class=\"dataframe\">\n",
       "  <thead>\n",
       "    <tr style=\"text-align: right;\">\n",
       "      <th></th>\n",
       "      <th>item</th>\n",
       "      <th>avg_rating</th>\n",
       "      <th>rating_cnt</th>\n",
       "    </tr>\n",
       "  </thead>\n",
       "  <tbody>\n",
       "    <tr>\n",
       "      <th>0</th>\n",
       "      <td>chicken parmigiana</td>\n",
       "      <td>4.444444</td>\n",
       "      <td>18</td>\n",
       "    </tr>\n",
       "    <tr>\n",
       "      <th>1</th>\n",
       "      <td>eggplant</td>\n",
       "      <td>3.968421</td>\n",
       "      <td>95</td>\n",
       "    </tr>\n",
       "    <tr>\n",
       "      <th>2</th>\n",
       "      <td>steak and cheese</td>\n",
       "      <td>4.888889</td>\n",
       "      <td>9</td>\n",
       "    </tr>\n",
       "    <tr>\n",
       "      <th>3</th>\n",
       "      <td>pizza</td>\n",
       "      <td>4.304469</td>\n",
       "      <td>358</td>\n",
       "    </tr>\n",
       "    <tr>\n",
       "      <th>4</th>\n",
       "      <td>meatball</td>\n",
       "      <td>4.079755</td>\n",
       "      <td>163</td>\n",
       "    </tr>\n",
       "  </tbody>\n",
       "</table>\n",
       "</div>"
      ],
      "text/plain": [
       "                 item  avg_rating  rating_cnt\n",
       "0  chicken parmigiana    4.444444          18\n",
       "1            eggplant    3.968421          95\n",
       "2    steak and cheese    4.888889           9\n",
       "3               pizza    4.304469         358\n",
       "4            meatball    4.079755         163"
      ]
     },
     "execution_count": 45,
     "metadata": {},
     "output_type": "execute_result"
    }
   ],
   "source": [
    "#variable to hold our extracted data\n",
    "final_list = []\n",
    "\n",
    "# calculate make sure we have enought data to capture\n",
    "for item, ratings in item_ratings.items():\n",
    "    final_list.append({\n",
    "        'item' : item,\n",
    "        'avg_rating' : sum(ratings)/len(ratings),\n",
    "        'rating_cnt' : len(ratings)\n",
    "    })\n",
    "\n",
    "#Mkae a final dataframe for analysis.\n",
    "fin_df = pd.DataFrame(final_list)\n",
    "\n",
    "fin_df.head()\n",
    "\n",
    "\n"
   ]
  },
  {
   "cell_type": "markdown",
   "metadata": {},
   "source": [
    "\n",
    "#### Plotting results\n",
    "\n",
    "Barchart of reviews count vs item"
   ]
  },
  {
   "cell_type": "code",
   "execution_count": 40,
   "metadata": {},
   "outputs": [
    {
     "data": {
      "image/png": "[encoded data removed]",
      "text/plain": [
       "<Figure size 864x432 with 1 Axes>"
      ]
     },
     "metadata": {
      "needs_background": "light"
     },
     "output_type": "display_data"
    }
   ],
   "source": [
    "# lets plot some graphs\n",
    "import matplotlib.pyplot as plt\n",
    "fin_df = fin_df.sort_values(by=['avg_rating'], ascending=True)\n",
    "plt.figure(figsize=(12,6))\n",
    "plt.plot(fin_df.item,fin_df.avg_rating, '+')\n",
    "plt.title('Average Rating per Menu Item')\n",
    "plt.ylabel('Average Rating')\n",
    "plt.xticks(fin_df.item, rotation='vertical')\n",
    "pass"
   ]
  },
  {
   "cell_type": "code",
   "execution_count": 44,
   "metadata": {},
   "outputs": [
    {
     "data": {
      "image/png": "[encoded data removed]",
      "text/plain": [
       "<Figure size 432x720 with 1 Axes>"
      ]
     },
     "metadata": {
      "needs_background": "light"
     },
     "output_type": "display_data"
    }
   ],
   "source": [
    "fin_df = fin_df.sort_values(by=['rating_cnt'], ascending=True)\n",
    "plt.figure(figsize=(6,10))\n",
    "plt.barh(fin_df.item,fin_df.rating_cnt)\n",
    "plt.title('Number of reviews per Menu Item')\n",
    "plt.xlabel('Number of reviews')\n",
    "pass"
   ]
  },
  {
   "cell_type": "code",
   "execution_count": null,
   "metadata": {},
   "outputs": [],
   "source": []
  }
 ],
 "metadata": {
  "kernelspec": {
   "display_name": "Python 3",
   "language": "python",
   "name": "python3"
  },
  "language_info": {
   "codemirror_mode": {
    "name": "ipython",
    "version": 3
   },
   "file_extension": ".py",
   "mimetype": "text/x-python",
   "name": "python",
   "nbconvert_exporter": "python",
   "pygments_lexer": "ipython3",
   "version": "3.7.7"
  }
 },
 "nbformat": 4,
 "nbformat_minor": 4
}
